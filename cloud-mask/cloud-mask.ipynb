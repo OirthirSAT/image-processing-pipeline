{
 "cells": [
  {
   "cell_type": "code",
   "execution_count": null,
   "metadata": {},
   "outputs": [],
   "source": [
    "#Installing packages and libraries\n",
    "!pip install numpy matplotlib scikit-image\n",
    "import numpy as np\n",
    "import matplotlib.pyplot as plt\n",
    "from skimage import exposure\n",
    "\n",
    "#Function for loading image bands (replace with actual data)\n",
    "def load_bands():\n",
    "    #Dummy data for demonstration\n",
    "    band1 = np.random.rand(100, 100)  #Example Band 1 (visible)\n",
    "    band2 = np.random.rand(100, 100)  #Example Band 2 (near-infrared)\n",
    "    band3 = np.random.rand(100, 100)  #Example Band 3 (thermal)\n",
    "    band4 = np.random.rand(100, 100)  #Example Band 4 \n",
    "    return band1, band2, band3, band4\n",
    "\n",
    "#Function for computing NDSI (used to identify any snow covered areas)\n",
    "def compute_ndsi(band1, band2):\n",
    "    return (band1 - band2)/(band1 + band2)\n",
    "\n",
    "#Function for computing brightness\n",
    "def compute_brightness(band1, band2, band3, band4):\n",
    "    return (band1 + band2 + band3 + band4)/3\n",
    "\n",
    "#Main function to create cloud mask\n",
    "def create_cloud_mask(band1, band2, band3, band4):\n",
    "    ndsi = compute_ndsi(band1, band2)\n",
    "    brightness = compute_brightness(band1, band2, band3, band4)\n",
    "    thermal_threshold = band3 > 0.5  #Example threshold\n",
    "\n",
    "    cloud_mask = (ndsi > 0.3) & (brightness > 0.5) & thermal_threshold  #Combine indices\n",
    "    return cloud_mask\n",
    "\n",
    "#Visualising results\n",
    "def visualize_results(band1, band2, band3, band4, cloud_mask):\n",
    "    fig, axes = plt.subplots(1, 4, figsize=(20, 5))\n",
    "    axes[0].imshow(band1, cmap='gray')\n",
    "    axes[0].set_title('Band 1')\n",
    "    axes[1].imshow(band2, cmap='gray')\n",
    "    axes[1].set_title('Band 2')\n",
    "    axes[2].imshow(band3, cmap='gray')\n",
    "    axes[2].set_title('Band 3')\n",
    "    axes[3].imshow(band3, cmap='gray')\n",
    "    axes[3].set_title('Band 4')\n",
    "    axes[4].imshow(cloud_mask, cmap='gray')\n",
    "    axes[4].set_title('Cloud Mask')\n",
    "    plt.show()\n",
    "\n",
    "#Loading image bands and creating cloud mask, then visualising results\n",
    "band1, band2, band3, band4 = load_bands()\n",
    "cloud_mask = create_cloud_mask(band1, band2, band3, band4)\n",
    "visualize_results(band1, band2, band3, band4, cloud_mask)\n"
   ]
  }
 ],
 "metadata": {
  "kernelspec": {
   "display_name": "Python 3.11.0 64-bit",
   "language": "python",
   "name": "python3"
  },
  "language_info": {
   "name": "python",
   "version": "3.11.0"
  },
  "orig_nbformat": 4,
  "vscode": {
   "interpreter": {
    "hash": "aee8b7b246df8f9039afb4144a1f6fd8d2ca17a180786b69acc140d282b71a49"
   }
  }
 },
 "nbformat": 4,
 "nbformat_minor": 2
}
